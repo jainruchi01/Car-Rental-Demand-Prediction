{
  "nbformat": 4,
  "nbformat_minor": 0,
  "metadata": {
    "colab": {
      "name": "Demand Forecasting.ipynb",
      "provenance": [],
      "collapsed_sections": [],
      "machine_shape": "hm"
    },
    "kernelspec": {
      "name": "python3",
      "display_name": "Python 3"
    },
    "language_info": {
      "name": "python"
    }
  },
  "cells": [
    {
      "cell_type": "code",
      "execution_count": 1,
      "metadata": {
        "id": "-ZD7kz3d3eiR"
      },
      "outputs": [],
      "source": [
        "import pandas as pd #pandas to create small dataframes \n",
        "import numpy as np #Do aritmetic operations on arrays\n",
        "import matplotlib # matplotlib: used to plot graphs\n",
        "#matplotlib.use('nbagg') : matplotlib uses this protocall which makes plots more user intractive like zoom in and zoom out\n",
        "matplotlib.use('nbagg')\n",
        "import matplotlib.pylab as plt\n",
        "import seaborn as sns#Plots\n",
        "from matplotlib import rcParams#Size of plots \n",
        "%matplotlib inline\n",
        "from sklearn.preprocessing import LabelEncoder\n",
        "from sklearn.model_selection import train_test_split\n",
        "from sklearn.metrics import mean_squared_log_error\n",
        "from sklearn.model_selection import RandomizedSearchCV,GridSearchCV\n",
        "from sklearn.tree import DecisionTreeRegressor\n",
        "from sklearn.ensemble import RandomForestRegressor\n",
        "from xgboost import XGBRegressor\n",
        "import lightgbm as lgb\n",
        "from sklearn.linear_model import LinearRegression\n",
        "from sklearn.metrics import mean_squared_error"
      ]
    },
    {
      "cell_type": "code",
      "source": [
        "# Mounting Google Drive\n",
        "from google.colab import drive\n",
        "drive.mount('/content/drive')"
      ],
      "metadata": {
        "colab": {
          "base_uri": "https://localhost:8080/"
        },
        "id": "sl2S6dFg5lAf",
        "outputId": "00d6de79-9f29-441c-dd7b-a29a91e49270"
      },
      "execution_count": 2,
      "outputs": [
        {
          "output_type": "stream",
          "name": "stdout",
          "text": [
            "Drive already mounted at /content/drive; to attempt to forcibly remount, call drive.mount(\"/content/drive\", force_remount=True).\n"
          ]
        }
      ]
    },
    {
      "cell_type": "code",
      "source": [
        "train =pd.read_csv('/content/drive/MyDrive/demandPrediction/train_E1GspfA.csv')\n",
        "test = pd.read_csv('/content/drive/MyDrive/demandPrediction/test_6QvDdzb.csv')\n",
        "sample=pd.read_csv('/content/drive/MyDrive/demandPrediction/sample_4E0BhPN.csv')"
      ],
      "metadata": {
        "id": "CXKLBTuW4WkB"
      },
      "execution_count": 3,
      "outputs": []
    },
    {
      "cell_type": "code",
      "source": [
        "test_f = pd.read_csv('/content/drive/MyDrive/demandPrediction/test_6QvDdzb.csv')\n",
        "test_f1 = pd.read_csv('/content/drive/MyDrive/demandPrediction/test_6QvDdzb.csv')"
      ],
      "metadata": {
        "id": "nQHsmN578QSu"
      },
      "execution_count": 4,
      "outputs": []
    },
    {
      "cell_type": "code",
      "source": [
        "train.describe()\n",
        "train.dtypes"
      ],
      "metadata": {
        "colab": {
          "base_uri": "https://localhost:8080/"
        },
        "id": "_dtH8bxM54GT",
        "outputId": "1b583d16-4e95-41f7-ae33-f48db60ae352"
      },
      "execution_count": 5,
      "outputs": [
        {
          "output_type": "execute_result",
          "data": {
            "text/plain": [
              "date      object\n",
              "hour       int64\n",
              "demand     int64\n",
              "dtype: object"
            ]
          },
          "metadata": {},
          "execution_count": 5
        }
      ]
    },
    {
      "cell_type": "code",
      "source": [
        "train.head()"
      ],
      "metadata": {
        "colab": {
          "base_uri": "https://localhost:8080/",
          "height": 206
        },
        "id": "mlQ_tYJt6KSQ",
        "outputId": "ec7c133e-f9bc-4e48-c60b-37c0f76228cf"
      },
      "execution_count": 6,
      "outputs": [
        {
          "output_type": "execute_result",
          "data": {
            "text/plain": [
              "         date  hour  demand\n",
              "0  2018-08-18     9      91\n",
              "1  2018-08-18    10      21\n",
              "2  2018-08-18    13      23\n",
              "3  2018-08-18    14     104\n",
              "4  2018-08-18    15      81"
            ],
            "text/html": [
              "\n",
              "  <div id=\"df-31a2eead-2faa-4687-95d6-060e2be9293c\">\n",
              "    <div class=\"colab-df-container\">\n",
              "      <div>\n",
              "<style scoped>\n",
              "    .dataframe tbody tr th:only-of-type {\n",
              "        vertical-align: middle;\n",
              "    }\n",
              "\n",
              "    .dataframe tbody tr th {\n",
              "        vertical-align: top;\n",
              "    }\n",
              "\n",
              "    .dataframe thead th {\n",
              "        text-align: right;\n",
              "    }\n",
              "</style>\n",
              "<table border=\"1\" class=\"dataframe\">\n",
              "  <thead>\n",
              "    <tr style=\"text-align: right;\">\n",
              "      <th></th>\n",
              "      <th>date</th>\n",
              "      <th>hour</th>\n",
              "      <th>demand</th>\n",
              "    </tr>\n",
              "  </thead>\n",
              "  <tbody>\n",
              "    <tr>\n",
              "      <th>0</th>\n",
              "      <td>2018-08-18</td>\n",
              "      <td>9</td>\n",
              "      <td>91</td>\n",
              "    </tr>\n",
              "    <tr>\n",
              "      <th>1</th>\n",
              "      <td>2018-08-18</td>\n",
              "      <td>10</td>\n",
              "      <td>21</td>\n",
              "    </tr>\n",
              "    <tr>\n",
              "      <th>2</th>\n",
              "      <td>2018-08-18</td>\n",
              "      <td>13</td>\n",
              "      <td>23</td>\n",
              "    </tr>\n",
              "    <tr>\n",
              "      <th>3</th>\n",
              "      <td>2018-08-18</td>\n",
              "      <td>14</td>\n",
              "      <td>104</td>\n",
              "    </tr>\n",
              "    <tr>\n",
              "      <th>4</th>\n",
              "      <td>2018-08-18</td>\n",
              "      <td>15</td>\n",
              "      <td>81</td>\n",
              "    </tr>\n",
              "  </tbody>\n",
              "</table>\n",
              "</div>\n",
              "      <button class=\"colab-df-convert\" onclick=\"convertToInteractive('df-31a2eead-2faa-4687-95d6-060e2be9293c')\"\n",
              "              title=\"Convert this dataframe to an interactive table.\"\n",
              "              style=\"display:none;\">\n",
              "        \n",
              "  <svg xmlns=\"http://www.w3.org/2000/svg\" height=\"24px\"viewBox=\"0 0 24 24\"\n",
              "       width=\"24px\">\n",
              "    <path d=\"M0 0h24v24H0V0z\" fill=\"none\"/>\n",
              "    <path d=\"M18.56 5.44l.94 2.06.94-2.06 2.06-.94-2.06-.94-.94-2.06-.94 2.06-2.06.94zm-11 1L8.5 8.5l.94-2.06 2.06-.94-2.06-.94L8.5 2.5l-.94 2.06-2.06.94zm10 10l.94 2.06.94-2.06 2.06-.94-2.06-.94-.94-2.06-.94 2.06-2.06.94z\"/><path d=\"M17.41 7.96l-1.37-1.37c-.4-.4-.92-.59-1.43-.59-.52 0-1.04.2-1.43.59L10.3 9.45l-7.72 7.72c-.78.78-.78 2.05 0 2.83L4 21.41c.39.39.9.59 1.41.59.51 0 1.02-.2 1.41-.59l7.78-7.78 2.81-2.81c.8-.78.8-2.07 0-2.86zM5.41 20L4 18.59l7.72-7.72 1.47 1.35L5.41 20z\"/>\n",
              "  </svg>\n",
              "      </button>\n",
              "      \n",
              "  <style>\n",
              "    .colab-df-container {\n",
              "      display:flex;\n",
              "      flex-wrap:wrap;\n",
              "      gap: 12px;\n",
              "    }\n",
              "\n",
              "    .colab-df-convert {\n",
              "      background-color: #E8F0FE;\n",
              "      border: none;\n",
              "      border-radius: 50%;\n",
              "      cursor: pointer;\n",
              "      display: none;\n",
              "      fill: #1967D2;\n",
              "      height: 32px;\n",
              "      padding: 0 0 0 0;\n",
              "      width: 32px;\n",
              "    }\n",
              "\n",
              "    .colab-df-convert:hover {\n",
              "      background-color: #E2EBFA;\n",
              "      box-shadow: 0px 1px 2px rgba(60, 64, 67, 0.3), 0px 1px 3px 1px rgba(60, 64, 67, 0.15);\n",
              "      fill: #174EA6;\n",
              "    }\n",
              "\n",
              "    [theme=dark] .colab-df-convert {\n",
              "      background-color: #3B4455;\n",
              "      fill: #D2E3FC;\n",
              "    }\n",
              "\n",
              "    [theme=dark] .colab-df-convert:hover {\n",
              "      background-color: #434B5C;\n",
              "      box-shadow: 0px 1px 3px 1px rgba(0, 0, 0, 0.15);\n",
              "      filter: drop-shadow(0px 1px 2px rgba(0, 0, 0, 0.3));\n",
              "      fill: #FFFFFF;\n",
              "    }\n",
              "  </style>\n",
              "\n",
              "      <script>\n",
              "        const buttonEl =\n",
              "          document.querySelector('#df-31a2eead-2faa-4687-95d6-060e2be9293c button.colab-df-convert');\n",
              "        buttonEl.style.display =\n",
              "          google.colab.kernel.accessAllowed ? 'block' : 'none';\n",
              "\n",
              "        async function convertToInteractive(key) {\n",
              "          const element = document.querySelector('#df-31a2eead-2faa-4687-95d6-060e2be9293c');\n",
              "          const dataTable =\n",
              "            await google.colab.kernel.invokeFunction('convertToInteractive',\n",
              "                                                     [key], {});\n",
              "          if (!dataTable) return;\n",
              "\n",
              "          const docLinkHtml = 'Like what you see? Visit the ' +\n",
              "            '<a target=\"_blank\" href=https://colab.research.google.com/notebooks/data_table.ipynb>data table notebook</a>'\n",
              "            + ' to learn more about interactive tables.';\n",
              "          element.innerHTML = '';\n",
              "          dataTable['output_type'] = 'display_data';\n",
              "          await google.colab.output.renderOutput(dataTable, element);\n",
              "          const docLink = document.createElement('div');\n",
              "          docLink.innerHTML = docLinkHtml;\n",
              "          element.appendChild(docLink);\n",
              "        }\n",
              "      </script>\n",
              "    </div>\n",
              "  </div>\n",
              "  "
            ]
          },
          "metadata": {},
          "execution_count": 6
        }
      ]
    },
    {
      "cell_type": "code",
      "source": [
        "def datetime_func(df):\n",
        "  df['hour_len']=df['hour'].astype(str).str.len()\n",
        "  df['hour_str']=np.where((df['hour_len']==1),'0'+ df['hour'].astype(str)+'00',df['hour'].astype(str)+'00')\n",
        "  df['DateTime'] = pd.to_datetime(df['date'] + ' ' + df['hour_str'].astype(str))\n",
        "  return df"
      ],
      "metadata": {
        "id": "P2B8Hnjo0agQ"
      },
      "execution_count": 7,
      "outputs": []
    },
    {
      "cell_type": "code",
      "source": [
        "# creating datetime column for test and train data\n",
        "train=datetime_func(train)\n",
        "test=datetime_func(test)"
      ],
      "metadata": {
        "id": "30RzF4ry06KN"
      },
      "execution_count": 8,
      "outputs": []
    },
    {
      "cell_type": "code",
      "source": [
        "train.head()"
      ],
      "metadata": {
        "colab": {
          "base_uri": "https://localhost:8080/",
          "height": 206
        },
        "id": "hc6AHZ2I1Nyt",
        "outputId": "94c6c4ae-04ce-40a6-8bcc-e6120f9c56d8"
      },
      "execution_count": 9,
      "outputs": [
        {
          "output_type": "execute_result",
          "data": {
            "text/plain": [
              "         date  hour  demand  hour_len hour_str            DateTime\n",
              "0  2018-08-18     9      91         1     0900 2018-08-18 09:00:00\n",
              "1  2018-08-18    10      21         2     1000 2018-08-18 10:00:00\n",
              "2  2018-08-18    13      23         2     1300 2018-08-18 13:00:00\n",
              "3  2018-08-18    14     104         2     1400 2018-08-18 14:00:00\n",
              "4  2018-08-18    15      81         2     1500 2018-08-18 15:00:00"
            ],
            "text/html": [
              "\n",
              "  <div id=\"df-4a8f98e1-f832-49c0-8ef5-be80febc05d3\">\n",
              "    <div class=\"colab-df-container\">\n",
              "      <div>\n",
              "<style scoped>\n",
              "    .dataframe tbody tr th:only-of-type {\n",
              "        vertical-align: middle;\n",
              "    }\n",
              "\n",
              "    .dataframe tbody tr th {\n",
              "        vertical-align: top;\n",
              "    }\n",
              "\n",
              "    .dataframe thead th {\n",
              "        text-align: right;\n",
              "    }\n",
              "</style>\n",
              "<table border=\"1\" class=\"dataframe\">\n",
              "  <thead>\n",
              "    <tr style=\"text-align: right;\">\n",
              "      <th></th>\n",
              "      <th>date</th>\n",
              "      <th>hour</th>\n",
              "      <th>demand</th>\n",
              "      <th>hour_len</th>\n",
              "      <th>hour_str</th>\n",
              "      <th>DateTime</th>\n",
              "    </tr>\n",
              "  </thead>\n",
              "  <tbody>\n",
              "    <tr>\n",
              "      <th>0</th>\n",
              "      <td>2018-08-18</td>\n",
              "      <td>9</td>\n",
              "      <td>91</td>\n",
              "      <td>1</td>\n",
              "      <td>0900</td>\n",
              "      <td>2018-08-18 09:00:00</td>\n",
              "    </tr>\n",
              "    <tr>\n",
              "      <th>1</th>\n",
              "      <td>2018-08-18</td>\n",
              "      <td>10</td>\n",
              "      <td>21</td>\n",
              "      <td>2</td>\n",
              "      <td>1000</td>\n",
              "      <td>2018-08-18 10:00:00</td>\n",
              "    </tr>\n",
              "    <tr>\n",
              "      <th>2</th>\n",
              "      <td>2018-08-18</td>\n",
              "      <td>13</td>\n",
              "      <td>23</td>\n",
              "      <td>2</td>\n",
              "      <td>1300</td>\n",
              "      <td>2018-08-18 13:00:00</td>\n",
              "    </tr>\n",
              "    <tr>\n",
              "      <th>3</th>\n",
              "      <td>2018-08-18</td>\n",
              "      <td>14</td>\n",
              "      <td>104</td>\n",
              "      <td>2</td>\n",
              "      <td>1400</td>\n",
              "      <td>2018-08-18 14:00:00</td>\n",
              "    </tr>\n",
              "    <tr>\n",
              "      <th>4</th>\n",
              "      <td>2018-08-18</td>\n",
              "      <td>15</td>\n",
              "      <td>81</td>\n",
              "      <td>2</td>\n",
              "      <td>1500</td>\n",
              "      <td>2018-08-18 15:00:00</td>\n",
              "    </tr>\n",
              "  </tbody>\n",
              "</table>\n",
              "</div>\n",
              "      <button class=\"colab-df-convert\" onclick=\"convertToInteractive('df-4a8f98e1-f832-49c0-8ef5-be80febc05d3')\"\n",
              "              title=\"Convert this dataframe to an interactive table.\"\n",
              "              style=\"display:none;\">\n",
              "        \n",
              "  <svg xmlns=\"http://www.w3.org/2000/svg\" height=\"24px\"viewBox=\"0 0 24 24\"\n",
              "       width=\"24px\">\n",
              "    <path d=\"M0 0h24v24H0V0z\" fill=\"none\"/>\n",
              "    <path d=\"M18.56 5.44l.94 2.06.94-2.06 2.06-.94-2.06-.94-.94-2.06-.94 2.06-2.06.94zm-11 1L8.5 8.5l.94-2.06 2.06-.94-2.06-.94L8.5 2.5l-.94 2.06-2.06.94zm10 10l.94 2.06.94-2.06 2.06-.94-2.06-.94-.94-2.06-.94 2.06-2.06.94z\"/><path d=\"M17.41 7.96l-1.37-1.37c-.4-.4-.92-.59-1.43-.59-.52 0-1.04.2-1.43.59L10.3 9.45l-7.72 7.72c-.78.78-.78 2.05 0 2.83L4 21.41c.39.39.9.59 1.41.59.51 0 1.02-.2 1.41-.59l7.78-7.78 2.81-2.81c.8-.78.8-2.07 0-2.86zM5.41 20L4 18.59l7.72-7.72 1.47 1.35L5.41 20z\"/>\n",
              "  </svg>\n",
              "      </button>\n",
              "      \n",
              "  <style>\n",
              "    .colab-df-container {\n",
              "      display:flex;\n",
              "      flex-wrap:wrap;\n",
              "      gap: 12px;\n",
              "    }\n",
              "\n",
              "    .colab-df-convert {\n",
              "      background-color: #E8F0FE;\n",
              "      border: none;\n",
              "      border-radius: 50%;\n",
              "      cursor: pointer;\n",
              "      display: none;\n",
              "      fill: #1967D2;\n",
              "      height: 32px;\n",
              "      padding: 0 0 0 0;\n",
              "      width: 32px;\n",
              "    }\n",
              "\n",
              "    .colab-df-convert:hover {\n",
              "      background-color: #E2EBFA;\n",
              "      box-shadow: 0px 1px 2px rgba(60, 64, 67, 0.3), 0px 1px 3px 1px rgba(60, 64, 67, 0.15);\n",
              "      fill: #174EA6;\n",
              "    }\n",
              "\n",
              "    [theme=dark] .colab-df-convert {\n",
              "      background-color: #3B4455;\n",
              "      fill: #D2E3FC;\n",
              "    }\n",
              "\n",
              "    [theme=dark] .colab-df-convert:hover {\n",
              "      background-color: #434B5C;\n",
              "      box-shadow: 0px 1px 3px 1px rgba(0, 0, 0, 0.15);\n",
              "      filter: drop-shadow(0px 1px 2px rgba(0, 0, 0, 0.3));\n",
              "      fill: #FFFFFF;\n",
              "    }\n",
              "  </style>\n",
              "\n",
              "      <script>\n",
              "        const buttonEl =\n",
              "          document.querySelector('#df-4a8f98e1-f832-49c0-8ef5-be80febc05d3 button.colab-df-convert');\n",
              "        buttonEl.style.display =\n",
              "          google.colab.kernel.accessAllowed ? 'block' : 'none';\n",
              "\n",
              "        async function convertToInteractive(key) {\n",
              "          const element = document.querySelector('#df-4a8f98e1-f832-49c0-8ef5-be80febc05d3');\n",
              "          const dataTable =\n",
              "            await google.colab.kernel.invokeFunction('convertToInteractive',\n",
              "                                                     [key], {});\n",
              "          if (!dataTable) return;\n",
              "\n",
              "          const docLinkHtml = 'Like what you see? Visit the ' +\n",
              "            '<a target=\"_blank\" href=https://colab.research.google.com/notebooks/data_table.ipynb>data table notebook</a>'\n",
              "            + ' to learn more about interactive tables.';\n",
              "          element.innerHTML = '';\n",
              "          dataTable['output_type'] = 'display_data';\n",
              "          await google.colab.output.renderOutput(dataTable, element);\n",
              "          const docLink = document.createElement('div');\n",
              "          docLink.innerHTML = docLinkHtml;\n",
              "          element.appendChild(docLink);\n",
              "        }\n",
              "      </script>\n",
              "    </div>\n",
              "  </div>\n",
              "  "
            ]
          },
          "metadata": {},
          "execution_count": 9
        }
      ]
    },
    {
      "cell_type": "code",
      "source": [
        "test.head()"
      ],
      "metadata": {
        "colab": {
          "base_uri": "https://localhost:8080/",
          "height": 206
        },
        "id": "1dEJ8gdn1R8l",
        "outputId": "b19a210c-19da-43b7-9dde-552be232b215"
      },
      "execution_count": 10,
      "outputs": [
        {
          "output_type": "execute_result",
          "data": {
            "text/plain": [
              "         date  hour  hour_len hour_str            DateTime\n",
              "0  2021-03-01     0         1     0000 2021-03-01 00:00:00\n",
              "1  2021-03-01     1         1     0100 2021-03-01 01:00:00\n",
              "2  2021-03-01     2         1     0200 2021-03-01 02:00:00\n",
              "3  2021-03-01     3         1     0300 2021-03-01 03:00:00\n",
              "4  2021-03-01     5         1     0500 2021-03-01 05:00:00"
            ],
            "text/html": [
              "\n",
              "  <div id=\"df-5013a7f0-0515-4751-ba69-986d164f8b6a\">\n",
              "    <div class=\"colab-df-container\">\n",
              "      <div>\n",
              "<style scoped>\n",
              "    .dataframe tbody tr th:only-of-type {\n",
              "        vertical-align: middle;\n",
              "    }\n",
              "\n",
              "    .dataframe tbody tr th {\n",
              "        vertical-align: top;\n",
              "    }\n",
              "\n",
              "    .dataframe thead th {\n",
              "        text-align: right;\n",
              "    }\n",
              "</style>\n",
              "<table border=\"1\" class=\"dataframe\">\n",
              "  <thead>\n",
              "    <tr style=\"text-align: right;\">\n",
              "      <th></th>\n",
              "      <th>date</th>\n",
              "      <th>hour</th>\n",
              "      <th>hour_len</th>\n",
              "      <th>hour_str</th>\n",
              "      <th>DateTime</th>\n",
              "    </tr>\n",
              "  </thead>\n",
              "  <tbody>\n",
              "    <tr>\n",
              "      <th>0</th>\n",
              "      <td>2021-03-01</td>\n",
              "      <td>0</td>\n",
              "      <td>1</td>\n",
              "      <td>0000</td>\n",
              "      <td>2021-03-01 00:00:00</td>\n",
              "    </tr>\n",
              "    <tr>\n",
              "      <th>1</th>\n",
              "      <td>2021-03-01</td>\n",
              "      <td>1</td>\n",
              "      <td>1</td>\n",
              "      <td>0100</td>\n",
              "      <td>2021-03-01 01:00:00</td>\n",
              "    </tr>\n",
              "    <tr>\n",
              "      <th>2</th>\n",
              "      <td>2021-03-01</td>\n",
              "      <td>2</td>\n",
              "      <td>1</td>\n",
              "      <td>0200</td>\n",
              "      <td>2021-03-01 02:00:00</td>\n",
              "    </tr>\n",
              "    <tr>\n",
              "      <th>3</th>\n",
              "      <td>2021-03-01</td>\n",
              "      <td>3</td>\n",
              "      <td>1</td>\n",
              "      <td>0300</td>\n",
              "      <td>2021-03-01 03:00:00</td>\n",
              "    </tr>\n",
              "    <tr>\n",
              "      <th>4</th>\n",
              "      <td>2021-03-01</td>\n",
              "      <td>5</td>\n",
              "      <td>1</td>\n",
              "      <td>0500</td>\n",
              "      <td>2021-03-01 05:00:00</td>\n",
              "    </tr>\n",
              "  </tbody>\n",
              "</table>\n",
              "</div>\n",
              "      <button class=\"colab-df-convert\" onclick=\"convertToInteractive('df-5013a7f0-0515-4751-ba69-986d164f8b6a')\"\n",
              "              title=\"Convert this dataframe to an interactive table.\"\n",
              "              style=\"display:none;\">\n",
              "        \n",
              "  <svg xmlns=\"http://www.w3.org/2000/svg\" height=\"24px\"viewBox=\"0 0 24 24\"\n",
              "       width=\"24px\">\n",
              "    <path d=\"M0 0h24v24H0V0z\" fill=\"none\"/>\n",
              "    <path d=\"M18.56 5.44l.94 2.06.94-2.06 2.06-.94-2.06-.94-.94-2.06-.94 2.06-2.06.94zm-11 1L8.5 8.5l.94-2.06 2.06-.94-2.06-.94L8.5 2.5l-.94 2.06-2.06.94zm10 10l.94 2.06.94-2.06 2.06-.94-2.06-.94-.94-2.06-.94 2.06-2.06.94z\"/><path d=\"M17.41 7.96l-1.37-1.37c-.4-.4-.92-.59-1.43-.59-.52 0-1.04.2-1.43.59L10.3 9.45l-7.72 7.72c-.78.78-.78 2.05 0 2.83L4 21.41c.39.39.9.59 1.41.59.51 0 1.02-.2 1.41-.59l7.78-7.78 2.81-2.81c.8-.78.8-2.07 0-2.86zM5.41 20L4 18.59l7.72-7.72 1.47 1.35L5.41 20z\"/>\n",
              "  </svg>\n",
              "      </button>\n",
              "      \n",
              "  <style>\n",
              "    .colab-df-container {\n",
              "      display:flex;\n",
              "      flex-wrap:wrap;\n",
              "      gap: 12px;\n",
              "    }\n",
              "\n",
              "    .colab-df-convert {\n",
              "      background-color: #E8F0FE;\n",
              "      border: none;\n",
              "      border-radius: 50%;\n",
              "      cursor: pointer;\n",
              "      display: none;\n",
              "      fill: #1967D2;\n",
              "      height: 32px;\n",
              "      padding: 0 0 0 0;\n",
              "      width: 32px;\n",
              "    }\n",
              "\n",
              "    .colab-df-convert:hover {\n",
              "      background-color: #E2EBFA;\n",
              "      box-shadow: 0px 1px 2px rgba(60, 64, 67, 0.3), 0px 1px 3px 1px rgba(60, 64, 67, 0.15);\n",
              "      fill: #174EA6;\n",
              "    }\n",
              "\n",
              "    [theme=dark] .colab-df-convert {\n",
              "      background-color: #3B4455;\n",
              "      fill: #D2E3FC;\n",
              "    }\n",
              "\n",
              "    [theme=dark] .colab-df-convert:hover {\n",
              "      background-color: #434B5C;\n",
              "      box-shadow: 0px 1px 3px 1px rgba(0, 0, 0, 0.15);\n",
              "      filter: drop-shadow(0px 1px 2px rgba(0, 0, 0, 0.3));\n",
              "      fill: #FFFFFF;\n",
              "    }\n",
              "  </style>\n",
              "\n",
              "      <script>\n",
              "        const buttonEl =\n",
              "          document.querySelector('#df-5013a7f0-0515-4751-ba69-986d164f8b6a button.colab-df-convert');\n",
              "        buttonEl.style.display =\n",
              "          google.colab.kernel.accessAllowed ? 'block' : 'none';\n",
              "\n",
              "        async function convertToInteractive(key) {\n",
              "          const element = document.querySelector('#df-5013a7f0-0515-4751-ba69-986d164f8b6a');\n",
              "          const dataTable =\n",
              "            await google.colab.kernel.invokeFunction('convertToInteractive',\n",
              "                                                     [key], {});\n",
              "          if (!dataTable) return;\n",
              "\n",
              "          const docLinkHtml = 'Like what you see? Visit the ' +\n",
              "            '<a target=\"_blank\" href=https://colab.research.google.com/notebooks/data_table.ipynb>data table notebook</a>'\n",
              "            + ' to learn more about interactive tables.';\n",
              "          element.innerHTML = '';\n",
              "          dataTable['output_type'] = 'display_data';\n",
              "          await google.colab.output.renderOutput(dataTable, element);\n",
              "          const docLink = document.createElement('div');\n",
              "          docLink.innerHTML = docLinkHtml;\n",
              "          element.appendChild(docLink);\n",
              "        }\n",
              "      </script>\n",
              "    </div>\n",
              "  </div>\n",
              "  "
            ]
          },
          "metadata": {},
          "execution_count": 10
        }
      ]
    },
    {
      "cell_type": "code",
      "source": [
        "# creating features from datetime column\n",
        "def datetime_fetures(df):\n",
        "  df['month'] = df.DateTime.dt.month\n",
        "  df['weekday'] = df.DateTime.dt.weekday\n",
        "  df['year'] = df.DateTime.dt.year\n",
        "  df['day'] = df.DateTime.dt.day\n",
        "  df['day_of_year'] =pd.to_datetime(df['date']).dt.day_of_year\n",
        "  df['days_in_month'] =pd.to_datetime(df['date']).dt.days_in_month\n",
        "  df['is_leap_year'] =pd.to_datetime(df['date']).dt.is_leap_year\n",
        "\n",
        "  # Adding if its day time hours or not feature\n",
        "  df['IsDay']= df['hour'].apply(lambda x: 1 if x >=6 and x <=20 else 0)\n",
        "  le=LabelEncoder()\n",
        "  df['is_leap_year']=le.fit_transform(df['is_leap_year'])\n",
        "  return df"
      ],
      "metadata": {
        "id": "IqVrv8jVu6EQ"
      },
      "execution_count": 11,
      "outputs": []
    },
    {
      "cell_type": "code",
      "source": [
        "train=datetime_fetures(train)\n",
        "test=datetime_fetures(test)"
      ],
      "metadata": {
        "id": "Bz8Y8fW916pF"
      },
      "execution_count": 12,
      "outputs": []
    },
    {
      "cell_type": "code",
      "source": [
        "plt.figure(figsize=(8,8))\n",
        "sns.distplot(train['demand'])\n",
        "plt.xlabel(\"Demand\")\n",
        "plt.title(\"Distribution of target variable\")\n",
        "plt.show()"
      ],
      "metadata": {
        "colab": {
          "base_uri": "https://localhost:8080/",
          "height": 568
        },
        "id": "fuJSMx3zuCOF",
        "outputId": "5f5d47b9-d48e-4c1d-9f22-8e64fd1e0759"
      },
      "execution_count": 13,
      "outputs": [
        {
          "output_type": "stream",
          "name": "stderr",
          "text": [
            "/usr/local/lib/python3.7/dist-packages/seaborn/distributions.py:2619: FutureWarning: `distplot` is a deprecated function and will be removed in a future version. Please adapt your code to use either `displot` (a figure-level function with similar flexibility) or `histplot` (an axes-level function for histograms).\n",
            "  warnings.warn(msg, FutureWarning)\n"
          ]
        },
        {
          "output_type": "display_data",
          "data": {
            "text/plain": [
              "<Figure size 576x576 with 1 Axes>"
            ],
            "image/png": "[encoded data removed]"
          },
          "metadata": {
            "needs_background": "light"
          }
        }
      ]
    },
    {
      "cell_type": "code",
      "source": [
        "#Lets check the hour wise demand\n",
        "plt.figure(figsize=(10,4))\n",
        "hour= train.groupby(['DateTime','hour']).demand.mean().reset_index()\n",
        "sns.lineplot(x=hour['hour'], y=hour['demand'], color='darkblue')\n",
        "plt.ylabel(\"Demand\")\n",
        "plt.title(\"Demand for a day\")\n",
        "plt.show()"
      ],
      "metadata": {
        "colab": {
          "base_uri": "https://localhost:8080/",
          "height": 295
        },
        "id": "Dwg7F5s9uTwa",
        "outputId": "2dc4cb1e-5da3-4473-e462-cecef5b3b832"
      },
      "execution_count": 15,
      "outputs": [
        {
          "output_type": "display_data",
          "data": {
            "text/plain": [
              "<Figure size 720x288 with 1 Axes>"
            ],
            "image/png": "[encoded data removed]"
          },
          "metadata": {
            "needs_background": "light"
          }
        }
      ]
    },
    {
      "cell_type": "code",
      "source": [
        "#Lets check the month wise demand\n",
        "plt.figure(figsize=(10,4))\n",
        "month_df= train.groupby(['DateTime','month']).demand.mean().reset_index()\n",
        "sns.lineplot(x=month_df['month'], y=month_df['demand'], color='darkblue')\n",
        "\n",
        "plt.xlabel(\"Month\")\n",
        "plt.ylabel(\"Demand\")\n",
        "plt.title(\"Average demand based on Months\")\n",
        "plt.show()"
      ],
      "metadata": {
        "colab": {
          "base_uri": "https://localhost:8080/",
          "height": 295
        },
        "id": "0R7YfS3IumwT",
        "outputId": "934b306f-a39e-4617-d3da-8a0d40c242c0"
      },
      "execution_count": 16,
      "outputs": [
        {
          "output_type": "display_data",
          "data": {
            "text/plain": [
              "<Figure size 720x288 with 1 Axes>"
            ],
            "image/png": "[encoded data removed]"
          },
          "metadata": {
            "needs_background": "light"
          }
        }
      ]
    },
    {
      "cell_type": "markdown",
      "source": [
        "demand is high in holiday months\n",
        "\n"
      ],
      "metadata": {
        "id": "Zr5PBh1XyQwB"
      }
    },
    {
      "cell_type": "code",
      "source": [
        "def feature_del(df):\n",
        "  df.drop(['hour_len'], axis=1, inplace=True)\n",
        "  df.drop(['hour_str'], axis=1, inplace=True)\n",
        "  # df.drop(['DateTime'], axis=1, inplace=True)\n",
        "  df.drop(['date'], axis=1, inplace=True)\n",
        "  return df"
      ],
      "metadata": {
        "id": "Q5fRB2iyzhP9"
      },
      "execution_count": 14,
      "outputs": []
    },
    {
      "cell_type": "code",
      "source": [
        "train=feature_del(train)\n",
        "test=feature_del(test)"
      ],
      "metadata": {
        "id": "Efj4XpC-2Qza"
      },
      "execution_count": 15,
      "outputs": []
    },
    {
      "cell_type": "code",
      "source": [
        "train.head()"
      ],
      "metadata": {
        "colab": {
          "base_uri": "https://localhost:8080/",
          "height": 206
        },
        "id": "i_B0R1lz0FZv",
        "outputId": "25cf3de7-af32-4d55-c37d-cab4017e9528"
      },
      "execution_count": 19,
      "outputs": [
        {
          "output_type": "execute_result",
          "data": {
            "text/plain": [
              "   hour  demand            DateTime  month  weekday  year  day  day_of_year  \\\n",
              "0     9      91 2018-08-18 09:00:00      8        5  2018   18          230   \n",
              "1    10      21 2018-08-18 10:00:00      8        5  2018   18          230   \n",
              "2    13      23 2018-08-18 13:00:00      8        5  2018   18          230   \n",
              "3    14     104 2018-08-18 14:00:00      8        5  2018   18          230   \n",
              "4    15      81 2018-08-18 15:00:00      8        5  2018   18          230   \n",
              "\n",
              "   days_in_month  is_leap_year  IsDay  \n",
              "0             31             0      1  \n",
              "1             31             0      1  \n",
              "2             31             0      1  \n",
              "3             31             0      1  \n",
              "4             31             0      1  "
            ],
            "text/html": [
              "\n",
              "  <div id=\"df-f9715351-3b9f-4325-badf-6721d22b9738\">\n",
              "    <div class=\"colab-df-container\">\n",
              "      <div>\n",
              "<style scoped>\n",
              "    .dataframe tbody tr th:only-of-type {\n",
              "        vertical-align: middle;\n",
              "    }\n",
              "\n",
              "    .dataframe tbody tr th {\n",
              "        vertical-align: top;\n",
              "    }\n",
              "\n",
              "    .dataframe thead th {\n",
              "        text-align: right;\n",
              "    }\n",
              "</style>\n",
              "<table border=\"1\" class=\"dataframe\">\n",
              "  <thead>\n",
              "    <tr style=\"text-align: right;\">\n",
              "      <th></th>\n",
              "      <th>hour</th>\n",
              "      <th>demand</th>\n",
              "      <th>DateTime</th>\n",
              "      <th>month</th>\n",
              "      <th>weekday</th>\n",
              "      <th>year</th>\n",
              "      <th>day</th>\n",
              "      <th>day_of_year</th>\n",
              "      <th>days_in_month</th>\n",
              "      <th>is_leap_year</th>\n",
              "      <th>IsDay</th>\n",
              "    </tr>\n",
              "  </thead>\n",
              "  <tbody>\n",
              "    <tr>\n",
              "      <th>0</th>\n",
              "      <td>9</td>\n",
              "      <td>91</td>\n",
              "      <td>2018-08-18 09:00:00</td>\n",
              "      <td>8</td>\n",
              "      <td>5</td>\n",
              "      <td>2018</td>\n",
              "      <td>18</td>\n",
              "      <td>230</td>\n",
              "      <td>31</td>\n",
              "      <td>0</td>\n",
              "      <td>1</td>\n",
              "    </tr>\n",
              "    <tr>\n",
              "      <th>1</th>\n",
              "      <td>10</td>\n",
              "      <td>21</td>\n",
              "      <td>2018-08-18 10:00:00</td>\n",
              "      <td>8</td>\n",
              "      <td>5</td>\n",
              "      <td>2018</td>\n",
              "      <td>18</td>\n",
              "      <td>230</td>\n",
              "      <td>31</td>\n",
              "      <td>0</td>\n",
              "      <td>1</td>\n",
              "    </tr>\n",
              "    <tr>\n",
              "      <th>2</th>\n",
              "      <td>13</td>\n",
              "      <td>23</td>\n",
              "      <td>2018-08-18 13:00:00</td>\n",
              "      <td>8</td>\n",
              "      <td>5</td>\n",
              "      <td>2018</td>\n",
              "      <td>18</td>\n",
              "      <td>230</td>\n",
              "      <td>31</td>\n",
              "      <td>0</td>\n",
              "      <td>1</td>\n",
              "    </tr>\n",
              "    <tr>\n",
              "      <th>3</th>\n",
              "      <td>14</td>\n",
              "      <td>104</td>\n",
              "      <td>2018-08-18 14:00:00</td>\n",
              "      <td>8</td>\n",
              "      <td>5</td>\n",
              "      <td>2018</td>\n",
              "      <td>18</td>\n",
              "      <td>230</td>\n",
              "      <td>31</td>\n",
              "      <td>0</td>\n",
              "      <td>1</td>\n",
              "    </tr>\n",
              "    <tr>\n",
              "      <th>4</th>\n",
              "      <td>15</td>\n",
              "      <td>81</td>\n",
              "      <td>2018-08-18 15:00:00</td>\n",
              "      <td>8</td>\n",
              "      <td>5</td>\n",
              "      <td>2018</td>\n",
              "      <td>18</td>\n",
              "      <td>230</td>\n",
              "      <td>31</td>\n",
              "      <td>0</td>\n",
              "      <td>1</td>\n",
              "    </tr>\n",
              "  </tbody>\n",
              "</table>\n",
              "</div>\n",
              "      <button class=\"colab-df-convert\" onclick=\"convertToInteractive('df-f9715351-3b9f-4325-badf-6721d22b9738')\"\n",
              "              title=\"Convert this dataframe to an interactive table.\"\n",
              "              style=\"display:none;\">\n",
              "        \n",
              "  <svg xmlns=\"http://www.w3.org/2000/svg\" height=\"24px\"viewBox=\"0 0 24 24\"\n",
              "       width=\"24px\">\n",
              "    <path d=\"M0 0h24v24H0V0z\" fill=\"none\"/>\n",
              "    <path d=\"M18.56 5.44l.94 2.06.94-2.06 2.06-.94-2.06-.94-.94-2.06-.94 2.06-2.06.94zm-11 1L8.5 8.5l.94-2.06 2.06-.94-2.06-.94L8.5 2.5l-.94 2.06-2.06.94zm10 10l.94 2.06.94-2.06 2.06-.94-2.06-.94-.94-2.06-.94 2.06-2.06.94z\"/><path d=\"M17.41 7.96l-1.37-1.37c-.4-.4-.92-.59-1.43-.59-.52 0-1.04.2-1.43.59L10.3 9.45l-7.72 7.72c-.78.78-.78 2.05 0 2.83L4 21.41c.39.39.9.59 1.41.59.51 0 1.02-.2 1.41-.59l7.78-7.78 2.81-2.81c.8-.78.8-2.07 0-2.86zM5.41 20L4 18.59l7.72-7.72 1.47 1.35L5.41 20z\"/>\n",
              "  </svg>\n",
              "      </button>\n",
              "      \n",
              "  <style>\n",
              "    .colab-df-container {\n",
              "      display:flex;\n",
              "      flex-wrap:wrap;\n",
              "      gap: 12px;\n",
              "    }\n",
              "\n",
              "    .colab-df-convert {\n",
              "      background-color: #E8F0FE;\n",
              "      border: none;\n",
              "      border-radius: 50%;\n",
              "      cursor: pointer;\n",
              "      display: none;\n",
              "      fill: #1967D2;\n",
              "      height: 32px;\n",
              "      padding: 0 0 0 0;\n",
              "      width: 32px;\n",
              "    }\n",
              "\n",
              "    .colab-df-convert:hover {\n",
              "      background-color: #E2EBFA;\n",
              "      box-shadow: 0px 1px 2px rgba(60, 64, 67, 0.3), 0px 1px 3px 1px rgba(60, 64, 67, 0.15);\n",
              "      fill: #174EA6;\n",
              "    }\n",
              "\n",
              "    [theme=dark] .colab-df-convert {\n",
              "      background-color: #3B4455;\n",
              "      fill: #D2E3FC;\n",
              "    }\n",
              "\n",
              "    [theme=dark] .colab-df-convert:hover {\n",
              "      background-color: #434B5C;\n",
              "      box-shadow: 0px 1px 3px 1px rgba(0, 0, 0, 0.15);\n",
              "      filter: drop-shadow(0px 1px 2px rgba(0, 0, 0, 0.3));\n",
              "      fill: #FFFFFF;\n",
              "    }\n",
              "  </style>\n",
              "\n",
              "      <script>\n",
              "        const buttonEl =\n",
              "          document.querySelector('#df-f9715351-3b9f-4325-badf-6721d22b9738 button.colab-df-convert');\n",
              "        buttonEl.style.display =\n",
              "          google.colab.kernel.accessAllowed ? 'block' : 'none';\n",
              "\n",
              "        async function convertToInteractive(key) {\n",
              "          const element = document.querySelector('#df-f9715351-3b9f-4325-badf-6721d22b9738');\n",
              "          const dataTable =\n",
              "            await google.colab.kernel.invokeFunction('convertToInteractive',\n",
              "                                                     [key], {});\n",
              "          if (!dataTable) return;\n",
              "\n",
              "          const docLinkHtml = 'Like what you see? Visit the ' +\n",
              "            '<a target=\"_blank\" href=https://colab.research.google.com/notebooks/data_table.ipynb>data table notebook</a>'\n",
              "            + ' to learn more about interactive tables.';\n",
              "          element.innerHTML = '';\n",
              "          dataTable['output_type'] = 'display_data';\n",
              "          await google.colab.output.renderOutput(dataTable, element);\n",
              "          const docLink = document.createElement('div');\n",
              "          docLink.innerHTML = docLinkHtml;\n",
              "          element.appendChild(docLink);\n",
              "        }\n",
              "      </script>\n",
              "    </div>\n",
              "  </div>\n",
              "  "
            ]
          },
          "metadata": {},
          "execution_count": 19
        }
      ]
    },
    {
      "cell_type": "code",
      "source": [
        "train.isna().sum()"
      ],
      "metadata": {
        "colab": {
          "base_uri": "https://localhost:8080/"
        },
        "id": "9AMX1sFbOLxt",
        "outputId": "e338478e-9767-42c5-ef97-a9096a2e8a4f"
      },
      "execution_count": 20,
      "outputs": [
        {
          "output_type": "execute_result",
          "data": {
            "text/plain": [
              "hour             0\n",
              "demand           0\n",
              "DateTime         0\n",
              "month            0\n",
              "weekday          0\n",
              "year             0\n",
              "day              0\n",
              "day_of_year      0\n",
              "days_in_month    0\n",
              "is_leap_year     0\n",
              "IsDay            0\n",
              "dtype: int64"
            ]
          },
          "metadata": {},
          "execution_count": 20
        }
      ]
    },
    {
      "cell_type": "code",
      "source": [
        "test.head()"
      ],
      "metadata": {
        "colab": {
          "base_uri": "https://localhost:8080/",
          "height": 206
        },
        "id": "qYCVERZh2WUd",
        "outputId": "9cdb0ae9-6db5-4f45-d4ea-1fe7bca84183"
      },
      "execution_count": 21,
      "outputs": [
        {
          "output_type": "execute_result",
          "data": {
            "text/plain": [
              "   hour            DateTime  month  weekday  year  day  day_of_year  \\\n",
              "0     0 2021-03-01 00:00:00      3        0  2021    1           60   \n",
              "1     1 2021-03-01 01:00:00      3        0  2021    1           60   \n",
              "2     2 2021-03-01 02:00:00      3        0  2021    1           60   \n",
              "3     3 2021-03-01 03:00:00      3        0  2021    1           60   \n",
              "4     5 2021-03-01 05:00:00      3        0  2021    1           60   \n",
              "\n",
              "   days_in_month  is_leap_year  IsDay  \n",
              "0             31             0      0  \n",
              "1             31             0      0  \n",
              "2             31             0      0  \n",
              "3             31             0      0  \n",
              "4             31             0      0  "
            ],
            "text/html": [
              "\n",
              "  <div id=\"df-a0b71820-7897-4a34-842f-2231e5b9653d\">\n",
              "    <div class=\"colab-df-container\">\n",
              "      <div>\n",
              "<style scoped>\n",
              "    .dataframe tbody tr th:only-of-type {\n",
              "        vertical-align: middle;\n",
              "    }\n",
              "\n",
              "    .dataframe tbody tr th {\n",
              "        vertical-align: top;\n",
              "    }\n",
              "\n",
              "    .dataframe thead th {\n",
              "        text-align: right;\n",
              "    }\n",
              "</style>\n",
              "<table border=\"1\" class=\"dataframe\">\n",
              "  <thead>\n",
              "    <tr style=\"text-align: right;\">\n",
              "      <th></th>\n",
              "      <th>hour</th>\n",
              "      <th>DateTime</th>\n",
              "      <th>month</th>\n",
              "      <th>weekday</th>\n",
              "      <th>year</th>\n",
              "      <th>day</th>\n",
              "      <th>day_of_year</th>\n",
              "      <th>days_in_month</th>\n",
              "      <th>is_leap_year</th>\n",
              "      <th>IsDay</th>\n",
              "    </tr>\n",
              "  </thead>\n",
              "  <tbody>\n",
              "    <tr>\n",
              "      <th>0</th>\n",
              "      <td>0</td>\n",
              "      <td>2021-03-01 00:00:00</td>\n",
              "      <td>3</td>\n",
              "      <td>0</td>\n",
              "      <td>2021</td>\n",
              "      <td>1</td>\n",
              "      <td>60</td>\n",
              "      <td>31</td>\n",
              "      <td>0</td>\n",
              "      <td>0</td>\n",
              "    </tr>\n",
              "    <tr>\n",
              "      <th>1</th>\n",
              "      <td>1</td>\n",
              "      <td>2021-03-01 01:00:00</td>\n",
              "      <td>3</td>\n",
              "      <td>0</td>\n",
              "      <td>2021</td>\n",
              "      <td>1</td>\n",
              "      <td>60</td>\n",
              "      <td>31</td>\n",
              "      <td>0</td>\n",
              "      <td>0</td>\n",
              "    </tr>\n",
              "    <tr>\n",
              "      <th>2</th>\n",
              "      <td>2</td>\n",
              "      <td>2021-03-01 02:00:00</td>\n",
              "      <td>3</td>\n",
              "      <td>0</td>\n",
              "      <td>2021</td>\n",
              "      <td>1</td>\n",
              "      <td>60</td>\n",
              "      <td>31</td>\n",
              "      <td>0</td>\n",
              "      <td>0</td>\n",
              "    </tr>\n",
              "    <tr>\n",
              "      <th>3</th>\n",
              "      <td>3</td>\n",
              "      <td>2021-03-01 03:00:00</td>\n",
              "      <td>3</td>\n",
              "      <td>0</td>\n",
              "      <td>2021</td>\n",
              "      <td>1</td>\n",
              "      <td>60</td>\n",
              "      <td>31</td>\n",
              "      <td>0</td>\n",
              "      <td>0</td>\n",
              "    </tr>\n",
              "    <tr>\n",
              "      <th>4</th>\n",
              "      <td>5</td>\n",
              "      <td>2021-03-01 05:00:00</td>\n",
              "      <td>3</td>\n",
              "      <td>0</td>\n",
              "      <td>2021</td>\n",
              "      <td>1</td>\n",
              "      <td>60</td>\n",
              "      <td>31</td>\n",
              "      <td>0</td>\n",
              "      <td>0</td>\n",
              "    </tr>\n",
              "  </tbody>\n",
              "</table>\n",
              "</div>\n",
              "      <button class=\"colab-df-convert\" onclick=\"convertToInteractive('df-a0b71820-7897-4a34-842f-2231e5b9653d')\"\n",
              "              title=\"Convert this dataframe to an interactive table.\"\n",
              "              style=\"display:none;\">\n",
              "        \n",
              "  <svg xmlns=\"http://www.w3.org/2000/svg\" height=\"24px\"viewBox=\"0 0 24 24\"\n",
              "       width=\"24px\">\n",
              "    <path d=\"M0 0h24v24H0V0z\" fill=\"none\"/>\n",
              "    <path d=\"M18.56 5.44l.94 2.06.94-2.06 2.06-.94-2.06-.94-.94-2.06-.94 2.06-2.06.94zm-11 1L8.5 8.5l.94-2.06 2.06-.94-2.06-.94L8.5 2.5l-.94 2.06-2.06.94zm10 10l.94 2.06.94-2.06 2.06-.94-2.06-.94-.94-2.06-.94 2.06-2.06.94z\"/><path d=\"M17.41 7.96l-1.37-1.37c-.4-.4-.92-.59-1.43-.59-.52 0-1.04.2-1.43.59L10.3 9.45l-7.72 7.72c-.78.78-.78 2.05 0 2.83L4 21.41c.39.39.9.59 1.41.59.51 0 1.02-.2 1.41-.59l7.78-7.78 2.81-2.81c.8-.78.8-2.07 0-2.86zM5.41 20L4 18.59l7.72-7.72 1.47 1.35L5.41 20z\"/>\n",
              "  </svg>\n",
              "      </button>\n",
              "      \n",
              "  <style>\n",
              "    .colab-df-container {\n",
              "      display:flex;\n",
              "      flex-wrap:wrap;\n",
              "      gap: 12px;\n",
              "    }\n",
              "\n",
              "    .colab-df-convert {\n",
              "      background-color: #E8F0FE;\n",
              "      border: none;\n",
              "      border-radius: 50%;\n",
              "      cursor: pointer;\n",
              "      display: none;\n",
              "      fill: #1967D2;\n",
              "      height: 32px;\n",
              "      padding: 0 0 0 0;\n",
              "      width: 32px;\n",
              "    }\n",
              "\n",
              "    .colab-df-convert:hover {\n",
              "      background-color: #E2EBFA;\n",
              "      box-shadow: 0px 1px 2px rgba(60, 64, 67, 0.3), 0px 1px 3px 1px rgba(60, 64, 67, 0.15);\n",
              "      fill: #174EA6;\n",
              "    }\n",
              "\n",
              "    [theme=dark] .colab-df-convert {\n",
              "      background-color: #3B4455;\n",
              "      fill: #D2E3FC;\n",
              "    }\n",
              "\n",
              "    [theme=dark] .colab-df-convert:hover {\n",
              "      background-color: #434B5C;\n",
              "      box-shadow: 0px 1px 3px 1px rgba(0, 0, 0, 0.15);\n",
              "      filter: drop-shadow(0px 1px 2px rgba(0, 0, 0, 0.3));\n",
              "      fill: #FFFFFF;\n",
              "    }\n",
              "  </style>\n",
              "\n",
              "      <script>\n",
              "        const buttonEl =\n",
              "          document.querySelector('#df-a0b71820-7897-4a34-842f-2231e5b9653d button.colab-df-convert');\n",
              "        buttonEl.style.display =\n",
              "          google.colab.kernel.accessAllowed ? 'block' : 'none';\n",
              "\n",
              "        async function convertToInteractive(key) {\n",
              "          const element = document.querySelector('#df-a0b71820-7897-4a34-842f-2231e5b9653d');\n",
              "          const dataTable =\n",
              "            await google.colab.kernel.invokeFunction('convertToInteractive',\n",
              "                                                     [key], {});\n",
              "          if (!dataTable) return;\n",
              "\n",
              "          const docLinkHtml = 'Like what you see? Visit the ' +\n",
              "            '<a target=\"_blank\" href=https://colab.research.google.com/notebooks/data_table.ipynb>data table notebook</a>'\n",
              "            + ' to learn more about interactive tables.';\n",
              "          element.innerHTML = '';\n",
              "          dataTable['output_type'] = 'display_data';\n",
              "          await google.colab.output.renderOutput(dataTable, element);\n",
              "          const docLink = document.createElement('div');\n",
              "          docLink.innerHTML = docLinkHtml;\n",
              "          element.appendChild(docLink);\n",
              "        }\n",
              "      </script>\n",
              "    </div>\n",
              "  </div>\n",
              "  "
            ]
          },
          "metadata": {},
          "execution_count": 21
        }
      ]
    },
    {
      "cell_type": "code",
      "source": [
        "plt.figure(figsize=(6,6))\n",
        "sns.heatmap(train.corr(), annot=True, linewidths=.5)\n",
        "plt.show()"
      ],
      "metadata": {
        "colab": {
          "base_uri": "https://localhost:8080/",
          "height": 443
        },
        "id": "r7y77gixyqWY",
        "outputId": "484e2869-3dec-46fa-cf40-4781b92426fc"
      },
      "execution_count": 22,
      "outputs": [
        {
          "output_type": "display_data",
          "data": {
            "text/plain": [
              "<Figure size 432x432 with 2 Axes>"
            ],
            "image/png": "[encoded data removed]"
          },
          "metadata": {
            "needs_background": "light"
          }
        }
      ]
    },
    {
      "cell_type": "code",
      "source": [
        "train=train.sort_values(by='DateTime')"
      ],
      "metadata": {
        "id": "xUz-eQX5nsLM"
      },
      "execution_count": 16,
      "outputs": []
    },
    {
      "cell_type": "code",
      "source": [
        "X_train, X_cv= train_test_split(train, test_size=0.20, shuffle=False)"
      ],
      "metadata": {
        "id": "8bzSULacn7rA"
      },
      "execution_count": 17,
      "outputs": []
    },
    {
      "cell_type": "code",
      "source": [
        "y_train = X_train['demand']\n",
        "X_train = X_train.drop('demand', axis=1)\n",
        "y_cv = X_cv['demand']\n",
        "X_cv = X_cv.drop('demand', axis=1)"
      ],
      "metadata": {
        "id": "Dhvy7RrK0QYr"
      },
      "execution_count": 18,
      "outputs": []
    },
    {
      "cell_type": "code",
      "source": [
        "X_train.drop(['DateTime'], axis=1, inplace=True)\n",
        "X_cv.drop(['DateTime'], axis=1, inplace=True)\n",
        "test.drop(['DateTime'], axis=1, inplace=True)"
      ],
      "metadata": {
        "id": "KLPLCVDDorAW"
      },
      "execution_count": 19,
      "outputs": []
    },
    {
      "cell_type": "code",
      "source": [
        "X_train.head()"
      ],
      "metadata": {
        "id": "4pH_qabwT1kV",
        "colab": {
          "base_uri": "https://localhost:8080/",
          "height": 206
        },
        "outputId": "6052c7c5-c2f8-44f4-b755-273246291697"
      },
      "execution_count": 20,
      "outputs": [
        {
          "output_type": "execute_result",
          "data": {
            "text/plain": [
              "   hour  month  weekday  year  day  day_of_year  days_in_month  is_leap_year  \\\n",
              "0     9      8        5  2018   18          230             31             0   \n",
              "1    10      8        5  2018   18          230             31             0   \n",
              "2    13      8        5  2018   18          230             31             0   \n",
              "3    14      8        5  2018   18          230             31             0   \n",
              "4    15      8        5  2018   18          230             31             0   \n",
              "\n",
              "   IsDay  \n",
              "0      1  \n",
              "1      1  \n",
              "2      1  \n",
              "3      1  \n",
              "4      1  "
            ],
            "text/html": [
              "\n",
              "  <div id=\"df-b6e5930c-f91d-4292-b5a3-8e57d13769e0\">\n",
              "    <div class=\"colab-df-container\">\n",
              "      <div>\n",
              "<style scoped>\n",
              "    .dataframe tbody tr th:only-of-type {\n",
              "        vertical-align: middle;\n",
              "    }\n",
              "\n",
              "    .dataframe tbody tr th {\n",
              "        vertical-align: top;\n",
              "    }\n",
              "\n",
              "    .dataframe thead th {\n",
              "        text-align: right;\n",
              "    }\n",
              "</style>\n",
              "<table border=\"1\" class=\"dataframe\">\n",
              "  <thead>\n",
              "    <tr style=\"text-align: right;\">\n",
              "      <th></th>\n",
              "      <th>hour</th>\n",
              "      <th>month</th>\n",
              "      <th>weekday</th>\n",
              "      <th>year</th>\n",
              "      <th>day</th>\n",
              "      <th>day_of_year</th>\n",
              "      <th>days_in_month</th>\n",
              "      <th>is_leap_year</th>\n",
              "      <th>IsDay</th>\n",
              "    </tr>\n",
              "  </thead>\n",
              "  <tbody>\n",
              "    <tr>\n",
              "      <th>0</th>\n",
              "      <td>9</td>\n",
              "      <td>8</td>\n",
              "      <td>5</td>\n",
              "      <td>2018</td>\n",
              "      <td>18</td>\n",
              "      <td>230</td>\n",
              "      <td>31</td>\n",
              "      <td>0</td>\n",
              "      <td>1</td>\n",
              "    </tr>\n",
              "    <tr>\n",
              "      <th>1</th>\n",
              "      <td>10</td>\n",
              "      <td>8</td>\n",
              "      <td>5</td>\n",
              "      <td>2018</td>\n",
              "      <td>18</td>\n",
              "      <td>230</td>\n",
              "      <td>31</td>\n",
              "      <td>0</td>\n",
              "      <td>1</td>\n",
              "    </tr>\n",
              "    <tr>\n",
              "      <th>2</th>\n",
              "      <td>13</td>\n",
              "      <td>8</td>\n",
              "      <td>5</td>\n",
              "      <td>2018</td>\n",
              "      <td>18</td>\n",
              "      <td>230</td>\n",
              "      <td>31</td>\n",
              "      <td>0</td>\n",
              "      <td>1</td>\n",
              "    </tr>\n",
              "    <tr>\n",
              "      <th>3</th>\n",
              "      <td>14</td>\n",
              "      <td>8</td>\n",
              "      <td>5</td>\n",
              "      <td>2018</td>\n",
              "      <td>18</td>\n",
              "      <td>230</td>\n",
              "      <td>31</td>\n",
              "      <td>0</td>\n",
              "      <td>1</td>\n",
              "    </tr>\n",
              "    <tr>\n",
              "      <th>4</th>\n",
              "      <td>15</td>\n",
              "      <td>8</td>\n",
              "      <td>5</td>\n",
              "      <td>2018</td>\n",
              "      <td>18</td>\n",
              "      <td>230</td>\n",
              "      <td>31</td>\n",
              "      <td>0</td>\n",
              "      <td>1</td>\n",
              "    </tr>\n",
              "  </tbody>\n",
              "</table>\n",
              "</div>\n",
              "      <button class=\"colab-df-convert\" onclick=\"convertToInteractive('df-b6e5930c-f91d-4292-b5a3-8e57d13769e0')\"\n",
              "              title=\"Convert this dataframe to an interactive table.\"\n",
              "              style=\"display:none;\">\n",
              "        \n",
              "  <svg xmlns=\"http://www.w3.org/2000/svg\" height=\"24px\"viewBox=\"0 0 24 24\"\n",
              "       width=\"24px\">\n",
              "    <path d=\"M0 0h24v24H0V0z\" fill=\"none\"/>\n",
              "    <path d=\"M18.56 5.44l.94 2.06.94-2.06 2.06-.94-2.06-.94-.94-2.06-.94 2.06-2.06.94zm-11 1L8.5 8.5l.94-2.06 2.06-.94-2.06-.94L8.5 2.5l-.94 2.06-2.06.94zm10 10l.94 2.06.94-2.06 2.06-.94-2.06-.94-.94-2.06-.94 2.06-2.06.94z\"/><path d=\"M17.41 7.96l-1.37-1.37c-.4-.4-.92-.59-1.43-.59-.52 0-1.04.2-1.43.59L10.3 9.45l-7.72 7.72c-.78.78-.78 2.05 0 2.83L4 21.41c.39.39.9.59 1.41.59.51 0 1.02-.2 1.41-.59l7.78-7.78 2.81-2.81c.8-.78.8-2.07 0-2.86zM5.41 20L4 18.59l7.72-7.72 1.47 1.35L5.41 20z\"/>\n",
              "  </svg>\n",
              "      </button>\n",
              "      \n",
              "  <style>\n",
              "    .colab-df-container {\n",
              "      display:flex;\n",
              "      flex-wrap:wrap;\n",
              "      gap: 12px;\n",
              "    }\n",
              "\n",
              "    .colab-df-convert {\n",
              "      background-color: #E8F0FE;\n",
              "      border: none;\n",
              "      border-radius: 50%;\n",
              "      cursor: pointer;\n",
              "      display: none;\n",
              "      fill: #1967D2;\n",
              "      height: 32px;\n",
              "      padding: 0 0 0 0;\n",
              "      width: 32px;\n",
              "    }\n",
              "\n",
              "    .colab-df-convert:hover {\n",
              "      background-color: #E2EBFA;\n",
              "      box-shadow: 0px 1px 2px rgba(60, 64, 67, 0.3), 0px 1px 3px 1px rgba(60, 64, 67, 0.15);\n",
              "      fill: #174EA6;\n",
              "    }\n",
              "\n",
              "    [theme=dark] .colab-df-convert {\n",
              "      background-color: #3B4455;\n",
              "      fill: #D2E3FC;\n",
              "    }\n",
              "\n",
              "    [theme=dark] .colab-df-convert:hover {\n",
              "      background-color: #434B5C;\n",
              "      box-shadow: 0px 1px 3px 1px rgba(0, 0, 0, 0.15);\n",
              "      filter: drop-shadow(0px 1px 2px rgba(0, 0, 0, 0.3));\n",
              "      fill: #FFFFFF;\n",
              "    }\n",
              "  </style>\n",
              "\n",
              "      <script>\n",
              "        const buttonEl =\n",
              "          document.querySelector('#df-b6e5930c-f91d-4292-b5a3-8e57d13769e0 button.colab-df-convert');\n",
              "        buttonEl.style.display =\n",
              "          google.colab.kernel.accessAllowed ? 'block' : 'none';\n",
              "\n",
              "        async function convertToInteractive(key) {\n",
              "          const element = document.querySelector('#df-b6e5930c-f91d-4292-b5a3-8e57d13769e0');\n",
              "          const dataTable =\n",
              "            await google.colab.kernel.invokeFunction('convertToInteractive',\n",
              "                                                     [key], {});\n",
              "          if (!dataTable) return;\n",
              "\n",
              "          const docLinkHtml = 'Like what you see? Visit the ' +\n",
              "            '<a target=\"_blank\" href=https://colab.research.google.com/notebooks/data_table.ipynb>data table notebook</a>'\n",
              "            + ' to learn more about interactive tables.';\n",
              "          element.innerHTML = '';\n",
              "          dataTable['output_type'] = 'display_data';\n",
              "          await google.colab.output.renderOutput(dataTable, element);\n",
              "          const docLink = document.createElement('div');\n",
              "          docLink.innerHTML = docLinkHtml;\n",
              "          element.appendChild(docLink);\n",
              "        }\n",
              "      </script>\n",
              "    </div>\n",
              "  </div>\n",
              "  "
            ]
          },
          "metadata": {},
          "execution_count": 20
        }
      ]
    },
    {
      "cell_type": "code",
      "source": [
        "y_train.dtypes"
      ],
      "metadata": {
        "colab": {
          "base_uri": "https://localhost:8080/"
        },
        "id": "WZQQvheX4WMp",
        "outputId": "ce7841bd-d5f6-41ad-964e-b84bdf7adfed"
      },
      "execution_count": 21,
      "outputs": [
        {
          "output_type": "execute_result",
          "data": {
            "text/plain": [
              "dtype('int64')"
            ]
          },
          "metadata": {},
          "execution_count": 21
        }
      ]
    },
    {
      "cell_type": "code",
      "source": [
        "y_train= y_train.astype(float)\n",
        "y_cv= y_cv.astype(float)"
      ],
      "metadata": {
        "id": "De-lR4CKb6qS"
      },
      "execution_count": 22,
      "outputs": []
    },
    {
      "cell_type": "markdown",
      "source": [
        "Linear Regression"
      ],
      "metadata": {
        "id": "aropvSbmP1-7"
      }
    },
    {
      "cell_type": "code",
      "source": [
        "linreg=LinearRegression()\n",
        "linreg.fit(X_train,y_train)\n",
        "train_pred=linreg.predict(X_train)\n",
        "cv_pred=linreg.predict(X_cv)\n",
        "\n",
        "train_rmse=mean_squared_error(y_train,train_pred)\n",
        "cv_rmse=mean_squared_error(y_cv,cv_pred)\n",
        "\n",
        "print(\"Linear Regression Training RMSE\",np.sqrt(train_rmse))\n",
        "print(\"Linear Regression Cross Vailidation RMSE\",np.sqrt(cv_rmse))"
      ],
      "metadata": {
        "colab": {
          "base_uri": "https://localhost:8080/"
        },
        "id": "PuSijfxdP1BJ",
        "outputId": "14708589-6fe6-4c5e-c4eb-8d09ce39796b"
      },
      "execution_count": 30,
      "outputs": [
        {
          "output_type": "stream",
          "name": "stdout",
          "text": [
            "Linear Regression Training RMSE 38.72934697971297\n",
            "Linear Regression Cross Vailidation RMSE 41.99083447080178\n"
          ]
        }
      ]
    },
    {
      "cell_type": "markdown",
      "source": [
        "Random Forest Regressor"
      ],
      "metadata": {
        "id": "c_IPem-Sq8pV"
      }
    },
    {
      "cell_type": "code",
      "source": [
        "from sklearn.metrics import r2_score,mean_squared_error\n",
        "rf=RandomForestRegressor(random_state=44)\n",
        "rf.fit(X_train,y_train)\n",
        "rf_pred=rf.predict(X_train)\n",
        "rf_pred1=rf.predict(X_cv)\n",
        "\n",
        "print(\"RF Regression Training RMSE\",r2_score(y_train,rf_pred))\n",
        "print(\"RF Regression Cross Vailidation RMSE\",r2_score(y_cv,rf_pred1))"
      ],
      "metadata": {
        "colab": {
          "base_uri": "https://localhost:8080/"
        },
        "id": "w_dal-GCrEAg",
        "outputId": "1ae49ad5-002e-4c1e-e1ec-206767a4e60f"
      },
      "execution_count": 31,
      "outputs": [
        {
          "output_type": "stream",
          "name": "stdout",
          "text": [
            "RF Regression Training RMSE 0.9089223268669605\n",
            "RF Regression Cross Vailidation RMSE 0.2412620579079634\n"
          ]
        }
      ]
    },
    {
      "cell_type": "code",
      "source": [
        "rf_param_grid={'n_estimators':[100,150,200],'criterion':['mse'],'max_depth':[14,15,16],\n",
        "    'min_samples_split':[3,4,5],'random_state':[96],'min_samples_leaf':[5,6,7]}"
      ],
      "metadata": {
        "id": "rq7Pjy7et8Sz"
      },
      "execution_count": 33,
      "outputs": []
    },
    {
      "cell_type": "code",
      "source": [
        "grid=GridSearchCV(estimator=rf, param_grid=rf_param_grid, n_jobs=-1, cv=4,verbose=1,\n",
        "                  scoring='accuracy')"
      ],
      "metadata": {
        "id": "CMsnPZpTt_Uy"
      },
      "execution_count": 34,
      "outputs": []
    },
    {
      "cell_type": "code",
      "source": [
        "grid.fit(X_train,y_train)"
      ],
      "metadata": {
        "colab": {
          "base_uri": "https://localhost:8080/"
        },
        "id": "2PuXjRA8uAZ-",
        "outputId": "45a190d5-8360-4015-dd05-c65d368a3b06"
      },
      "execution_count": 35,
      "outputs": [
        {
          "output_type": "stream",
          "name": "stdout",
          "text": [
            "Fitting 4 folds for each of 81 candidates, totalling 324 fits\n"
          ]
        },
        {
          "output_type": "stream",
          "name": "stderr",
          "text": [
            "/usr/local/lib/python3.7/dist-packages/sklearn/model_selection/_search.py:972: UserWarning: One or more of the test scores are non-finite: [nan nan nan nan nan nan nan nan nan nan nan nan nan nan nan nan nan nan\n",
            " nan nan nan nan nan nan nan nan nan nan nan nan nan nan nan nan nan nan\n",
            " nan nan nan nan nan nan nan nan nan nan nan nan nan nan nan nan nan nan\n",
            " nan nan nan nan nan nan nan nan nan nan nan nan nan nan nan nan nan nan\n",
            " nan nan nan nan nan nan nan nan nan]\n",
            "  category=UserWarning,\n",
            "/usr/local/lib/python3.7/dist-packages/sklearn/ensemble/_forest.py:400: FutureWarning: Criterion 'mse' was deprecated in v1.0 and will be removed in version 1.2. Use `criterion='squared_error'` which is equivalent.\n",
            "  FutureWarning,\n"
          ]
        },
        {
          "output_type": "execute_result",
          "data": {
            "text/plain": [
              "GridSearchCV(cv=4, estimator=RandomForestRegressor(random_state=44), n_jobs=-1,\n",
              "             param_grid={'criterion': ['mse'], 'max_depth': [14, 15, 16],\n",
              "                         'min_samples_leaf': [5, 6, 7],\n",
              "                         'min_samples_split': [3, 4, 5],\n",
              "                         'n_estimators': [100, 150, 200],\n",
              "                         'random_state': [96]},\n",
              "             scoring='accuracy', verbose=1)"
            ]
          },
          "metadata": {},
          "execution_count": 35
        }
      ]
    },
    {
      "cell_type": "code",
      "source": [
        "grid.best_params_"
      ],
      "metadata": {
        "colab": {
          "base_uri": "https://localhost:8080/"
        },
        "id": "e_XOm31RuEbm",
        "outputId": "7057aa5e-45cc-4e37-a72f-8908c79164e2"
      },
      "execution_count": 36,
      "outputs": [
        {
          "output_type": "execute_result",
          "data": {
            "text/plain": [
              "{'criterion': 'mse',\n",
              " 'max_depth': 14,\n",
              " 'min_samples_leaf': 5,\n",
              " 'min_samples_split': 3,\n",
              " 'n_estimators': 100,\n",
              " 'random_state': 96}"
            ]
          },
          "metadata": {},
          "execution_count": 36
        }
      ]
    },
    {
      "cell_type": "code",
      "source": [
        "grid_rf=RandomForestRegressor(criterion='mse',min_samples_leaf=5,max_depth=14, min_samples_split=3\n",
        "                              ,n_estimators=100,random_state=96)\n",
        "grid_rf.fit(X_train,y_train)\n",
        "rf_pred=grid_rf.predict(X_train)\n",
        "rf_pred1=grid_rf.predict(X_cv)\n",
        "\n",
        "print(\"RF Regression Grid Training RMSE\",np.sqrt(mean_squared_error(y_train,rf_pred)))\n",
        "print(\"RF Regression Grid Cross Vailidation RMSE\",np.sqrt(mean_squared_error(y_cv,rf_pred1)))"
      ],
      "metadata": {
        "colab": {
          "base_uri": "https://localhost:8080/"
        },
        "id": "c82K5SiRvWC6",
        "outputId": "b946e590-7e43-42d1-ac7a-c0c652328134"
      },
      "execution_count": 38,
      "outputs": [
        {
          "output_type": "stream",
          "name": "stderr",
          "text": [
            "/usr/local/lib/python3.7/dist-packages/sklearn/ensemble/_forest.py:400: FutureWarning: Criterion 'mse' was deprecated in v1.0 and will be removed in version 1.2. Use `criterion='squared_error'` which is equivalent.\n",
            "  FutureWarning,\n"
          ]
        },
        {
          "output_type": "stream",
          "name": "stdout",
          "text": [
            "RF Regression Grid Training RMSE 25.915723775703373\n",
            "RF Regression Grid Cross Vailidation RMSE 37.764215624193426\n"
          ]
        }
      ]
    },
    {
      "cell_type": "markdown",
      "source": [
        "MLP Regressor"
      ],
      "metadata": {
        "id": "CTwWM3KAPLgV"
      }
    },
    {
      "cell_type": "code",
      "source": [
        "from keras import Sequential\n",
        "from keras import backend as K\n",
        "from keras.callbacks import EarlyStopping\n",
        "from keras.layers import Dense, Dropout,BatchNormalization\n",
        "from keras.initializers import glorot_uniform\n",
        "from keras.optimizers import adam_v2\n",
        "from keras.regularizers import l1\n",
        "from tqdm import tqdm \n",
        "import tensorflow as tf"
      ],
      "metadata": {
        "id": "ohTkVk6P3KGX"
      },
      "execution_count": 28,
      "outputs": []
    },
    {
      "cell_type": "code",
      "source": [
        "def root_mean_squared_error(y_true, y_pred):\n",
        "        return K.sqrt(K.mean(K.square(y_pred - y_true))) "
      ],
      "metadata": {
        "id": "ynAxYvuTaCnI"
      },
      "execution_count": 30,
      "outputs": []
    },
    {
      "cell_type": "code",
      "source": [
        "# Source: https://medium.com/analytics-vidhya/energy-prediction-of-buildings-ashrae-5d873cf038f1\n",
        "inp_dim=X_train.shape[1]\n",
        "earlystop= EarlyStopping(monitor='val_loss', mode='min', patience=3)\n",
        "\n",
        "model=Sequential()\n",
        "model.add(Dense(2048, activation='relu', input_shape=(inp_dim,)))\n",
        "model.add(Dense(1024, activation='relu'))\n",
        "model.add(Dense(512, activation='relu'))\n",
        "model.add(Dense(32, activation='relu'))\n",
        "model.add(Dense(16, activation='linear'))\n",
        "opt=adam_v2.Adam(0.0001)\n",
        "model.compile(optimizer=opt, loss= root_mean_squared_error)\n",
        "model.fit(X_train, y_train,epochs=50)"
      ],
      "metadata": {
        "colab": {
          "base_uri": "https://localhost:8080/"
        },
        "id": "p1iacpxraG5_",
        "outputId": "9d7b4aac-2275-4e23-8d63-9b2db044127c"
      },
      "execution_count": 31,
      "outputs": [
        {
          "output_type": "stream",
          "name": "stdout",
          "text": [
            "Epoch 1/50\n",
            "457/457 [==============================] - 9s 19ms/step - loss: 44.2611\n",
            "Epoch 2/50\n",
            "457/457 [==============================] - 9s 19ms/step - loss: 40.1329\n",
            "Epoch 3/50\n",
            "457/457 [==============================] - 9s 19ms/step - loss: 39.9045\n",
            "Epoch 4/50\n",
            "457/457 [==============================] - 9s 19ms/step - loss: 39.8694\n",
            "Epoch 5/50\n",
            "457/457 [==============================] - 9s 19ms/step - loss: 39.6991\n",
            "Epoch 6/50\n",
            "457/457 [==============================] - 9s 19ms/step - loss: 39.4682\n",
            "Epoch 7/50\n",
            "457/457 [==============================] - 9s 19ms/step - loss: 39.3914\n",
            "Epoch 8/50\n",
            "457/457 [==============================] - 9s 19ms/step - loss: 39.1226\n",
            "Epoch 9/50\n",
            "457/457 [==============================] - 11s 23ms/step - loss: 39.0139\n",
            "Epoch 10/50\n",
            "457/457 [==============================] - 10s 22ms/step - loss: 38.9059\n",
            "Epoch 11/50\n",
            "457/457 [==============================] - 10s 22ms/step - loss: 38.8810\n",
            "Epoch 12/50\n",
            "457/457 [==============================] - 10s 22ms/step - loss: 38.7992\n",
            "Epoch 13/50\n",
            "457/457 [==============================] - 10s 22ms/step - loss: 38.6796\n",
            "Epoch 14/50\n",
            "457/457 [==============================] - 11s 24ms/step - loss: 38.7030\n",
            "Epoch 15/50\n",
            "457/457 [==============================] - 10s 21ms/step - loss: 38.6697\n",
            "Epoch 16/50\n",
            "457/457 [==============================] - 11s 23ms/step - loss: 38.5296\n",
            "Epoch 17/50\n",
            "457/457 [==============================] - 11s 23ms/step - loss: 38.4527\n",
            "Epoch 18/50\n",
            "457/457 [==============================] - 10s 21ms/step - loss: 38.4354\n",
            "Epoch 19/50\n",
            "457/457 [==============================] - 10s 21ms/step - loss: 38.4006\n",
            "Epoch 20/50\n",
            "457/457 [==============================] - 10s 23ms/step - loss: 38.3080\n",
            "Epoch 21/50\n",
            "457/457 [==============================] - 10s 22ms/step - loss: 38.2842\n",
            "Epoch 22/50\n",
            "457/457 [==============================] - 11s 23ms/step - loss: 38.2561\n",
            "Epoch 23/50\n",
            "457/457 [==============================] - 10s 21ms/step - loss: 38.2955\n",
            "Epoch 24/50\n",
            "457/457 [==============================] - 10s 23ms/step - loss: 38.1215\n",
            "Epoch 25/50\n",
            "457/457 [==============================] - 10s 22ms/step - loss: 38.0669\n",
            "Epoch 26/50\n",
            "457/457 [==============================] - 11s 23ms/step - loss: 38.1146\n",
            "Epoch 27/50\n",
            "457/457 [==============================] - 10s 22ms/step - loss: 37.8964\n",
            "Epoch 28/50\n",
            "457/457 [==============================] - 9s 19ms/step - loss: 37.8969\n",
            "Epoch 29/50\n",
            "457/457 [==============================] - 9s 20ms/step - loss: 37.8383\n",
            "Epoch 30/50\n",
            "457/457 [==============================] - 9s 19ms/step - loss: 37.8363\n",
            "Epoch 31/50\n",
            "457/457 [==============================] - 9s 19ms/step - loss: 37.7279\n",
            "Epoch 32/50\n",
            "457/457 [==============================] - 9s 19ms/step - loss: 37.6029\n",
            "Epoch 33/50\n",
            "457/457 [==============================] - 9s 19ms/step - loss: 37.5361\n",
            "Epoch 34/50\n",
            "457/457 [==============================] - 9s 19ms/step - loss: 37.5954\n",
            "Epoch 35/50\n",
            "457/457 [==============================] - 9s 19ms/step - loss: 37.4770\n",
            "Epoch 36/50\n",
            "457/457 [==============================] - 9s 19ms/step - loss: 37.5603\n",
            "Epoch 37/50\n",
            "457/457 [==============================] - 9s 19ms/step - loss: 37.4034\n",
            "Epoch 38/50\n",
            "457/457 [==============================] - 9s 19ms/step - loss: 37.3988\n",
            "Epoch 39/50\n",
            "457/457 [==============================] - 9s 19ms/step - loss: 37.3945\n",
            "Epoch 40/50\n",
            "457/457 [==============================] - 9s 19ms/step - loss: 37.2514\n",
            "Epoch 41/50\n",
            "457/457 [==============================] - 9s 19ms/step - loss: 37.2829\n",
            "Epoch 42/50\n",
            "457/457 [==============================] - 8s 19ms/step - loss: 37.2239\n",
            "Epoch 43/50\n",
            "457/457 [==============================] - 8s 19ms/step - loss: 37.3483\n",
            "Epoch 44/50\n",
            "457/457 [==============================] - 9s 19ms/step - loss: 37.1172\n",
            "Epoch 45/50\n",
            "457/457 [==============================] - 9s 19ms/step - loss: 37.0280\n",
            "Epoch 46/50\n",
            "457/457 [==============================] - 9s 19ms/step - loss: 37.0457\n",
            "Epoch 47/50\n",
            "457/457 [==============================] - 8s 18ms/step - loss: 37.0493\n",
            "Epoch 48/50\n",
            "457/457 [==============================] - 9s 19ms/step - loss: 36.9327\n",
            "Epoch 49/50\n",
            "457/457 [==============================] - 8s 18ms/step - loss: 36.8033\n",
            "Epoch 50/50\n",
            "457/457 [==============================] - 9s 19ms/step - loss: 36.8876\n"
          ]
        },
        {
          "output_type": "execute_result",
          "data": {
            "text/plain": [
              "<keras.callbacks.History at 0x7f28c36b49d0>"
            ]
          },
          "metadata": {},
          "execution_count": 31
        }
      ]
    },
    {
      "cell_type": "code",
      "source": [
        "test_f.head()"
      ],
      "metadata": {
        "colab": {
          "base_uri": "https://localhost:8080/",
          "height": 206
        },
        "id": "0mGr90GE8uE_",
        "outputId": "8a3fb76f-abb2-477a-c3ad-208dcd5b22e6"
      },
      "execution_count": null,
      "outputs": [
        {
          "output_type": "execute_result",
          "data": {
            "text/plain": [
              "         date  hour     demand\n",
              "0  2021-03-01     0  46.734114\n",
              "1  2021-03-01     1  46.293822\n",
              "2  2021-03-01     2  65.249927\n",
              "3  2021-03-01     3  35.952195\n",
              "4  2021-03-01     5  65.492284"
            ],
            "text/html": [
              "\n",
              "  <div id=\"df-8ff69548-c262-4f4a-bbee-1bb09e502091\">\n",
              "    <div class=\"colab-df-container\">\n",
              "      <div>\n",
              "<style scoped>\n",
              "    .dataframe tbody tr th:only-of-type {\n",
              "        vertical-align: middle;\n",
              "    }\n",
              "\n",
              "    .dataframe tbody tr th {\n",
              "        vertical-align: top;\n",
              "    }\n",
              "\n",
              "    .dataframe thead th {\n",
              "        text-align: right;\n",
              "    }\n",
              "</style>\n",
              "<table border=\"1\" class=\"dataframe\">\n",
              "  <thead>\n",
              "    <tr style=\"text-align: right;\">\n",
              "      <th></th>\n",
              "      <th>date</th>\n",
              "      <th>hour</th>\n",
              "      <th>demand</th>\n",
              "    </tr>\n",
              "  </thead>\n",
              "  <tbody>\n",
              "    <tr>\n",
              "      <th>0</th>\n",
              "      <td>2021-03-01</td>\n",
              "      <td>0</td>\n",
              "      <td>46.734114</td>\n",
              "    </tr>\n",
              "    <tr>\n",
              "      <th>1</th>\n",
              "      <td>2021-03-01</td>\n",
              "      <td>1</td>\n",
              "      <td>46.293822</td>\n",
              "    </tr>\n",
              "    <tr>\n",
              "      <th>2</th>\n",
              "      <td>2021-03-01</td>\n",
              "      <td>2</td>\n",
              "      <td>65.249927</td>\n",
              "    </tr>\n",
              "    <tr>\n",
              "      <th>3</th>\n",
              "      <td>2021-03-01</td>\n",
              "      <td>3</td>\n",
              "      <td>35.952195</td>\n",
              "    </tr>\n",
              "    <tr>\n",
              "      <th>4</th>\n",
              "      <td>2021-03-01</td>\n",
              "      <td>5</td>\n",
              "      <td>65.492284</td>\n",
              "    </tr>\n",
              "  </tbody>\n",
              "</table>\n",
              "</div>\n",
              "      <button class=\"colab-df-convert\" onclick=\"convertToInteractive('df-8ff69548-c262-4f4a-bbee-1bb09e502091')\"\n",
              "              title=\"Convert this dataframe to an interactive table.\"\n",
              "              style=\"display:none;\">\n",
              "        \n",
              "  <svg xmlns=\"http://www.w3.org/2000/svg\" height=\"24px\"viewBox=\"0 0 24 24\"\n",
              "       width=\"24px\">\n",
              "    <path d=\"M0 0h24v24H0V0z\" fill=\"none\"/>\n",
              "    <path d=\"M18.56 5.44l.94 2.06.94-2.06 2.06-.94-2.06-.94-.94-2.06-.94 2.06-2.06.94zm-11 1L8.5 8.5l.94-2.06 2.06-.94-2.06-.94L8.5 2.5l-.94 2.06-2.06.94zm10 10l.94 2.06.94-2.06 2.06-.94-2.06-.94-.94-2.06-.94 2.06-2.06.94z\"/><path d=\"M17.41 7.96l-1.37-1.37c-.4-.4-.92-.59-1.43-.59-.52 0-1.04.2-1.43.59L10.3 9.45l-7.72 7.72c-.78.78-.78 2.05 0 2.83L4 21.41c.39.39.9.59 1.41.59.51 0 1.02-.2 1.41-.59l7.78-7.78 2.81-2.81c.8-.78.8-2.07 0-2.86zM5.41 20L4 18.59l7.72-7.72 1.47 1.35L5.41 20z\"/>\n",
              "  </svg>\n",
              "      </button>\n",
              "      \n",
              "  <style>\n",
              "    .colab-df-container {\n",
              "      display:flex;\n",
              "      flex-wrap:wrap;\n",
              "      gap: 12px;\n",
              "    }\n",
              "\n",
              "    .colab-df-convert {\n",
              "      background-color: #E8F0FE;\n",
              "      border: none;\n",
              "      border-radius: 50%;\n",
              "      cursor: pointer;\n",
              "      display: none;\n",
              "      fill: #1967D2;\n",
              "      height: 32px;\n",
              "      padding: 0 0 0 0;\n",
              "      width: 32px;\n",
              "    }\n",
              "\n",
              "    .colab-df-convert:hover {\n",
              "      background-color: #E2EBFA;\n",
              "      box-shadow: 0px 1px 2px rgba(60, 64, 67, 0.3), 0px 1px 3px 1px rgba(60, 64, 67, 0.15);\n",
              "      fill: #174EA6;\n",
              "    }\n",
              "\n",
              "    [theme=dark] .colab-df-convert {\n",
              "      background-color: #3B4455;\n",
              "      fill: #D2E3FC;\n",
              "    }\n",
              "\n",
              "    [theme=dark] .colab-df-convert:hover {\n",
              "      background-color: #434B5C;\n",
              "      box-shadow: 0px 1px 3px 1px rgba(0, 0, 0, 0.15);\n",
              "      filter: drop-shadow(0px 1px 2px rgba(0, 0, 0, 0.3));\n",
              "      fill: #FFFFFF;\n",
              "    }\n",
              "  </style>\n",
              "\n",
              "      <script>\n",
              "        const buttonEl =\n",
              "          document.querySelector('#df-8ff69548-c262-4f4a-bbee-1bb09e502091 button.colab-df-convert');\n",
              "        buttonEl.style.display =\n",
              "          google.colab.kernel.accessAllowed ? 'block' : 'none';\n",
              "\n",
              "        async function convertToInteractive(key) {\n",
              "          const element = document.querySelector('#df-8ff69548-c262-4f4a-bbee-1bb09e502091');\n",
              "          const dataTable =\n",
              "            await google.colab.kernel.invokeFunction('convertToInteractive',\n",
              "                                                     [key], {});\n",
              "          if (!dataTable) return;\n",
              "\n",
              "          const docLinkHtml = 'Like what you see? Visit the ' +\n",
              "            '<a target=\"_blank\" href=https://colab.research.google.com/notebooks/data_table.ipynb>data table notebook</a>'\n",
              "            + ' to learn more about interactive tables.';\n",
              "          element.innerHTML = '';\n",
              "          dataTable['output_type'] = 'display_data';\n",
              "          await google.colab.output.renderOutput(dataTable, element);\n",
              "          const docLink = document.createElement('div');\n",
              "          docLink.innerHTML = docLinkHtml;\n",
              "          element.appendChild(docLink);\n",
              "        }\n",
              "      </script>\n",
              "    </div>\n",
              "  </div>\n",
              "  "
            ]
          },
          "metadata": {},
          "execution_count": 44
        }
      ]
    },
    {
      "cell_type": "code",
      "source": [
        "# test_f.to_csv('/content/drive/MyDrive/demandPrediction/lgbmc5.csv', index=False)"
      ],
      "metadata": {
        "id": "dsE1YhI862fm"
      },
      "execution_count": null,
      "outputs": []
    },
    {
      "cell_type": "code",
      "source": [
        "# # Adding cyclical time features on hour column\n",
        "# X_train[\"hour_sin\"] = X_train[\"hour\"].apply(lambda x:np.sin(2*np.pi*x/24))\n",
        "# X_train[\"hour_cos\"] = X_train[\"hour\"].apply(lambda x:np.cos(2*np.pi*x/24))\n",
        "\n",
        "# test[\"hour_sin\"] = test[\"hour\"].apply(lambda x:np.sin(2*np.pi*x/24))\n",
        "# # test[\"hour_cos\"] = test[\"hour\"].apply(lambda x:np.cos(2*np.pi*x/24))"
      ],
      "metadata": {
        "id": "ObPpDh2GVYT9"
      },
      "execution_count": null,
      "outputs": []
    },
    {
      "cell_type": "markdown",
      "source": [
        "LGBM Regressor RF"
      ],
      "metadata": {
        "id": "ygF1lFLdMXFG"
      }
    },
    {
      "cell_type": "code",
      "source": [
        "import math\n",
        "from sklearn.metrics import mean_squared_error\n",
        "lgb_reg=lgb.LGBMRegressor(boosting_type='rf', n_estimators=300, n_jobs=-1,objective='rmse',subsample=0.8,feature_fraction=0.8,bagging_freq=1)\n",
        "lgb_reg.fit(X_train,y_train)\n",
        "pred_reg_lgb_tr=lgb_reg.predict(X_train)\n",
        "pred_reg_lgb_cv=lgb_reg.predict(X_cv)\n",
        "\n",
        "print(\"Train rmse for estimators:\", 300,'is',math.sqrt(mean_squared_error(y_train, pred_reg_lgb_tr)))\n",
        "print(\"Cross Validation rmse for estimators:\", 300,'is',math.sqrt(mean_squared_error(y_cv, pred_reg_lgb_cv)))"
      ],
      "metadata": {
        "id": "uQjNhBcbVrah",
        "colab": {
          "base_uri": "https://localhost:8080/"
        },
        "outputId": "522feb75-1a48-481a-d77b-b2777e7d71df"
      },
      "execution_count": 23,
      "outputs": [
        {
          "output_type": "stream",
          "name": "stdout",
          "text": [
            "Train rmse for estimators: 300 is 33.04484877510405\n",
            "Cross Validation rmse for estimators: 300 is 38.36293824819468\n"
          ]
        }
      ]
    },
    {
      "cell_type": "code",
      "source": [
        "# test_f1['demand']=lgb_reg.predict(test)"
      ],
      "metadata": {
        "id": "4CisCT1lVzH_"
      },
      "execution_count": null,
      "outputs": []
    },
    {
      "cell_type": "code",
      "source": [
        "# test_f1.head()"
      ],
      "metadata": {
        "id": "mQI3rzVMV1MX"
      },
      "execution_count": null,
      "outputs": []
    },
    {
      "cell_type": "code",
      "source": [
        "# test_f1.to_csv('/content/drive/MyDrive/demandPrediction/lgbmc3.csv', index=False)"
      ],
      "metadata": {
        "id": "qYW7P5WmV6Yv"
      },
      "execution_count": null,
      "outputs": []
    },
    {
      "cell_type": "markdown",
      "source": [
        "LGBM Regressor GBDT"
      ],
      "metadata": {
        "id": "Wodw7Y5ML9Dy"
      }
    },
    {
      "cell_type": "code",
      "source": [
        "import math\n",
        "from sklearn.metrics import mean_squared_error\n",
        "lgb_reg=lgb.LGBMRegressor(boosting_type='gbdt', n_estimators=2000, objective='rmse',n_jobs=-1)\n",
        "lgb_reg.fit(X_train,y_train)\n",
        "pred_reg_lgb_tr=lgb_reg.predict(X_train)\n",
        "print(\"Train rmse for estimators:\", 2000,'is',math.sqrt(mean_squared_error(y_train, pred_reg_lgb_tr)))\n",
        "pred_reg_lgb_cv=lgb_reg.predict(X_cv)\n",
        "print(\"Cross Validation rmse for estimators:\", 2000,'is',math.sqrt(mean_squared_error(y_cv, pred_reg_lgb_cv)))"
      ],
      "metadata": {
        "colab": {
          "base_uri": "https://localhost:8080/"
        },
        "id": "bXNGVyOuMAid",
        "outputId": "83141a74-3a6e-488f-9e6a-353cd2f3672e"
      },
      "execution_count": 24,
      "outputs": [
        {
          "output_type": "stream",
          "name": "stdout",
          "text": [
            "Train rmse for estimators: 2000 is 20.55050266892386\n",
            "Cross Validation rmse for estimators: 2000 is 39.99624737289689\n"
          ]
        }
      ]
    },
    {
      "cell_type": "markdown",
      "source": [
        "SVR"
      ],
      "metadata": {
        "id": "LIboZpoiMapI"
      }
    },
    {
      "cell_type": "code",
      "source": [
        "from sklearn.svm import SVR\n",
        "sv=SVR(C=9.0, degree=9,gamma='scale',kernel='rbf')\n",
        "sv.fit(X_train,y_train)\n",
        "pred_sv_tr=sv.predict(X_train)\n",
        "pred_sv_cv=sv.predict(X_cv)\n",
        "print(\"Train rmse for SVR\",math.sqrt(mean_squared_error(y_train, pred_sv_tr)))\n",
        "print(\"Cross Validation rmse for SVR\",math.sqrt(mean_squared_error(y_cv, pred_sv_cv)))"
      ],
      "metadata": {
        "colab": {
          "base_uri": "https://localhost:8080/"
        },
        "id": "4qcIvBVQMoyl",
        "outputId": "bb6c64a5-5848-42aa-ac83-a1e02310ffa0"
      },
      "execution_count": 26,
      "outputs": [
        {
          "output_type": "stream",
          "name": "stdout",
          "text": [
            "Train rmse for SVR 40.68395729025971\n",
            "Cross Validation rmse for SVR 45.8465220489449\n"
          ]
        }
      ]
    },
    {
      "cell_type": "markdown",
      "source": [
        "Decision Tree Regressor"
      ],
      "metadata": {
        "id": "wRVVHbYnOKtf"
      }
    },
    {
      "cell_type": "code",
      "source": [
        "dtr=DecisionTreeRegressor(max_depth=15,random_state=5)\n",
        "dtr.fit(X_train, y_train)\n",
        "dtr_pred_tr=dtr.predict(X_train)\n",
        "dtr_pred_cv=dtr.predict(X_cv)\n",
        "print(\"Train rmse for DTR is\",math.sqrt(mean_squared_error(y_train, dtr_pred_tr)))\n",
        "print(\"Cross Validation rmse for DTR is\",math.sqrt(mean_squared_error(y_cv, dtr_pred_cv)))"
      ],
      "metadata": {
        "colab": {
          "base_uri": "https://localhost:8080/"
        },
        "id": "35l_e6O5ONaS",
        "outputId": "b2806665-54eb-4766-a292-10f19f0e40b5"
      },
      "execution_count": 27,
      "outputs": [
        {
          "output_type": "stream",
          "name": "stdout",
          "text": [
            "Train rmse for DTR is 19.029422004491824\n",
            "Cross Validation rmse for DTR is 46.48394691337646\n"
          ]
        }
      ]
    },
    {
      "cell_type": "markdown",
      "source": [
        "Results Summary"
      ],
      "metadata": {
        "id": "QlsTbggJOm2k"
      }
    },
    {
      "cell_type": "code",
      "source": [
        "from prettytable import PrettyTable\n",
        "summary = PrettyTable()\n",
        "\n",
        "\n",
        "summary.field_names = [\"Model\", \"Train RMSE\", \"CV RMSE\"]\n",
        "summary.add_row([\"Linear Regression\",38.72934697971297 ,41.99083447080178])\n",
        "summary.add_row([\"RF Regressior\",25.915723775703373 ,37.764215624193426])\n",
        "summary.add_row([\"LightGBM GBDT\", 20.55050266892386,39.99624737289689])\n",
        "summary.add_row([\"LightGBM RF\", 33.04484877510405,38.36293824819468])\n",
        "summary.add_row([\"SVR\", 40.68395729025971,45.8465220489449])\n",
        "summary.add_row([\"MLP\", 36.8876,\"Not Calculated\"])\n",
        "summary.add_row([\"Decision Trees\", 19.029422004491824,46.48394691337646])\n",
        "print(summary)"
      ],
      "metadata": {
        "colab": {
          "base_uri": "https://localhost:8080/"
        },
        "id": "k6dQsSvXOo0V",
        "outputId": "487f12f7-a88f-43d6-d694-190a9465544e"
      },
      "execution_count": 32,
      "outputs": [
        {
          "output_type": "stream",
          "name": "stdout",
          "text": [
            "+-------------------+--------------------+--------------------+\n",
            "|       Model       |     Train RMSE     |      CV RMSE       |\n",
            "+-------------------+--------------------+--------------------+\n",
            "| Linear Regression | 38.72934697971297  | 41.99083447080178  |\n",
            "|   RF Regressior   | 25.915723775703373 | 37.764215624193426 |\n",
            "|   LightGBM GBDT   | 20.55050266892386  | 39.99624737289689  |\n",
            "|    LightGBM RF    | 33.04484877510405  | 38.36293824819468  |\n",
            "|        SVR        | 40.68395729025971  |  45.8465220489449  |\n",
            "|        MLP        |      36.8876       |   Not Calculated   |\n",
            "|   Decision Trees  | 19.029422004491824 | 46.48394691337646  |\n",
            "+-------------------+--------------------+--------------------+\n"
          ]
        }
      ]
    }
  ]
}